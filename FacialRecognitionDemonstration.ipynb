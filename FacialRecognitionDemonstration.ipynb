{
  "nbformat": 4,
  "nbformat_minor": 0,
  "metadata": {
    "colab": {
      "provenance": [],
      "private_outputs": true,
      "collapsed_sections": [
        "71gkMIdwVu2U",
        "nuC7LtNSX0oI",
        "pVbKi0RPX-Bn"
      ],
      "authorship_tag": "ABX9TyOEwS09Fo/KUCEVkpWHf5fj",
      "include_colab_link": true
    },
    "kernelspec": {
      "name": "python3",
      "display_name": "Python 3"
    },
    "language_info": {
      "name": "python"
    }
  },
  "cells": [
    {
      "cell_type": "markdown",
      "metadata": {
        "id": "view-in-github",
        "colab_type": "text"
      },
      "source": [
        "<a href=\"https://colab.research.google.com/github/NoraGraves/AIAttackDemo/blob/main/FacialRecognitionDemonstration.ipynb\" target=\"_parent\"><img src=\"https://colab.research.google.com/assets/colab-badge.svg\" alt=\"Open In Colab\"/></a>"
      ]
    },
    {
      "cell_type": "markdown",
      "source": [],
      "metadata": {
        "id": "B-ZF19kQfCQ4"
      }
    },
    {
      "cell_type": "markdown",
      "source": [
        "# Initialization"
      ],
      "metadata": {
        "id": "fqXA0U4pVBUM"
      }
    },
    {
      "cell_type": "markdown",
      "source": [
        "We need to import all of these code libraries in order to format our own photos, and to use the pretrained neural network."
      ],
      "metadata": {
        "id": "bMGcRDI2Vp5-"
      }
    },
    {
      "cell_type": "code",
      "execution_count": null,
      "metadata": {
        "id": "73TS-q6iUxHW"
      },
      "outputs": [],
      "source": [
        "%%capture\n",
        "%pip install opencv-python\n",
        "%pip install progressbar2\n",
        "!wget http://dlib.net/files/shape_predictor_68_face_landmarks.dat.bz2\n",
        "!bunzip2 \"shape_predictor_68_face_landmarks.dat.bz2\""
      ]
    },
    {
      "cell_type": "markdown",
      "source": [
        "Now we will clone the repository in Github containing all of the code and sample images we will need."
      ],
      "metadata": {
        "id": "jMJl-fikUyGJ"
      }
    },
    {
      "cell_type": "code",
      "source": [
        "%%capture\n",
        "!git clone 'https://github.com/NoraGraves/AIAttackDemo.git'"
      ],
      "metadata": {
        "id": "4Ua8dzNkbctq"
      },
      "execution_count": null,
      "outputs": []
    },
    {
      "cell_type": "code",
      "source": [
        "import AIAttackDemo.image_processing as image_processing\n",
        "import AIAttackDemo.neural_net as neural_net\n",
        "import AIAttackDemo.attack as attack\n",
        "\n",
        "from google.colab.patches import cv2_imshow as show_image"
      ],
      "metadata": {
        "id": "I6xTmMb0egyc"
      },
      "execution_count": null,
      "outputs": []
    },
    {
      "cell_type": "markdown",
      "source": [
        "# Upload and crop an image of your face!"
      ],
      "metadata": {
        "id": "Q7qBrJ8kWN20"
      }
    },
    {
      "cell_type": "markdown",
      "source": [
        "The first step is to upload an image of your face to this Colab notebook. If you don't feel comfortable using your own face, any picture with a face in it will work.\n",
        "\n",
        "**Make sure there is only one face in the image!**"
      ],
      "metadata": {
        "id": "1S9nh3rZWkgk"
      }
    },
    {
      "cell_type": "code",
      "source": [
        "from google.colab import files\n",
        "uploaded=files.upload()\n",
        "\n",
        "# saves filepath for uploaded image\n",
        "filepath = ''\n",
        "for key in uploaded.keys():\n",
        "    filepath = f'/content/{key}'"
      ],
      "metadata": {
        "id": "S09mf5hmJWVd"
      },
      "execution_count": null,
      "outputs": []
    },
    {
      "cell_type": "code",
      "source": [
        "# Check that the image uploaded correctly by displaying it here!\n",
        "show_image(image_processing.read_image_from_file(filepath))"
      ],
      "metadata": {
        "id": "jLmjOXwUjuUr"
      },
      "execution_count": null,
      "outputs": []
    },
    {
      "cell_type": "markdown",
      "source": [
        "Our neural network was trained on pictures of faces that were all in the same format: a square 224x224 image with the face centered inside. Therefore, in order to use your own face as input, you must make sure your picture is in that same format.\n",
        "\n",
        "The following code will detect the face in the image and crop the image around it."
      ],
      "metadata": {
        "id": "OdPb4Y7sj8Uv"
      }
    },
    {
      "cell_type": "code",
      "source": [
        "# Here, we crop the image and then display it\n",
        "crop_image = image_processing.crop_image_from_file(filepath)\n",
        "show_image(crop_image)"
      ],
      "metadata": {
        "id": "Mbj2sVJakD3g"
      },
      "execution_count": null,
      "outputs": []
    },
    {
      "cell_type": "markdown",
      "source": [
        "# Who do you look like?"
      ],
      "metadata": {
        "id": "QR9LtyfmlUi7"
      }
    },
    {
      "cell_type": "code",
      "source": [
        "# Upload the model\n",
        "model = neural_net.load_model_from_file('/content/AIAttackDemo/celeb_faces.model.keras')"
      ],
      "metadata": {
        "id": "BHzHZS_elC3G"
      },
      "execution_count": null,
      "outputs": []
    },
    {
      "cell_type": "markdown",
      "source": [
        "It's finally time to run the program, and find out which celebrity you look like!\n",
        "\n",
        "NOTE: This is a very simple neural network, so the results will not always be perfect. For example, it may say you look like a celebrity of a different gender. Please don't be offended!"
      ],
      "metadata": {
        "id": "J2WPNBRblW1Y"
      }
    },
    {
      "cell_type": "code",
      "source": [
        "# Turn the image into an input the model can understand\n",
        "model_input = image_processing.preprocess_image(crop_image)\n",
        "prediction = neural_net.predict(model_input, model)\n",
        "show_image(image_processing.read_image_from_file(neural_net.index2filepath(prediction)))"
      ],
      "metadata": {
        "id": "9xdHTjQ6mCIv"
      },
      "execution_count": null,
      "outputs": []
    },
    {
      "cell_type": "markdown",
      "source": [
        "# Time to attack the model!"
      ],
      "metadata": {
        "id": "l5PsN0UlnZI8"
      }
    },
    {
      "cell_type": "markdown",
      "source": [
        "We will now add noise to the image, so that the model identifies the same person as a different celebrity."
      ],
      "metadata": {
        "id": "C7cyw17wnuJ6"
      }
    },
    {
      "cell_type": "markdown",
      "source": [
        "Pick a celebrity and run the code block. This will display an image of the selected celebrity."
      ],
      "metadata": {
        "id": "ikzN-owOqIEj"
      }
    },
    {
      "cell_type": "code",
      "source": [
        "# @title  { run: \"auto\", display-mode: \"form\" }\n",
        "target_name = \"Sandra Oh\" # @param ['Alica Schmidt', 'Angela Merkel', 'Barack Obama','Bruno Mars', 'Dwayne Johnson', 'Ed Sheeran', 'Emma Stone', 'Greta Thunberg', 'Jackie Chan','Malala', 'Manuel Neuer', 'Mark Forster','Michael Jordan', 'Namika', 'Olaf Schulz','Olivia Rodrigo', 'Rihanna', 'Ryan Gosling','Sandra Oh', 'Serena Williams', 'Simu Lui', 'Zendaya'] {run: \"auto\"}\n",
        "\n",
        "sel_index = neural_net.name2index(target_name)\n",
        "show_image(image_processing.read_image_from_file(neural_net.index2filepath(sel_index)))\n",
        "\n"
      ],
      "metadata": {
        "id": "bQdGt4GDJNBD"
      },
      "execution_count": null,
      "outputs": []
    },
    {
      "cell_type": "markdown",
      "source": [
        "Run the attack!\n",
        "\n",
        "NOTE: This typically takes around 15 minutes"
      ],
      "metadata": {
        "id": "c8JzK7nNqUen"
      }
    },
    {
      "cell_type": "code",
      "source": [
        "attack_image = attack.targeted_attack(model, crop_image, target_name)"
      ],
      "metadata": {
        "id": "sfLo5RUNnjC7"
      },
      "execution_count": null,
      "outputs": []
    },
    {
      "cell_type": "markdown",
      "source": [
        "Let's look at the image, and then see what the model predicts!"
      ],
      "metadata": {
        "id": "K2w6iEp-4CNT"
      }
    },
    {
      "cell_type": "code",
      "source": [
        "print('Attack Image:')\n",
        "show_image(attack_image)\n",
        "print('Original Image:')\n",
        "show_image(crop_image)"
      ],
      "metadata": {
        "id": "ieauAdWIzEXA"
      },
      "execution_count": null,
      "outputs": []
    },
    {
      "cell_type": "code",
      "source": [
        "attack_input = image_processing.preprocess_image(attack_image)\n",
        "prediction = neural_net.predict(attack_input, model)\n",
        "show_image(image_processing.read_image_from_file(neural_net.index2filepath(prediction)))"
      ],
      "metadata": {
        "id": "SUqvziqSx1tJ"
      },
      "execution_count": null,
      "outputs": []
    },
    {
      "cell_type": "markdown",
      "source": [
        "# Further Exploration\n",
        "Here are some more ideas of things to try if you'd like to keep exploring attacks on neural networks! You can also go back to the beginning of this notebook and try again with a different original picture."
      ],
      "metadata": {
        "id": "Yzz9jrZJzO4I"
      }
    },
    {
      "cell_type": "markdown",
      "source": [
        "## Attack Strength"
      ],
      "metadata": {
        "id": "71gkMIdwVu2U"
      }
    },
    {
      "cell_type": "markdown",
      "source": [
        "Right now, the attack is set to run for up to 400 steps (which takes about 15 minutes). However, this is not guaranteed to reach the target, which might take more time. If your attack did not lead to the celebrity prediction you wanted, try again with more steps!\n",
        "\n",
        "Running this code block will run the attack for up to the given number of time steps, then show the images and the final prediction.\n",
        "\n",
        "NOTE: the attack will always end early once it succeeds."
      ],
      "metadata": {
        "id": "F2AZOvPgZVG7"
      }
    },
    {
      "cell_type": "code",
      "source": [
        "# @title  { display-mode: \"form\" }\n",
        "target_name = 'Angela Merkel' # @param ['Alica Schmidt', 'Angela Merkel', 'Barack Obama','Bruno Mars', 'Dwayne Johnson', 'Ed Sheeran', 'Emma Stone', 'Greta Thunberg', 'Jackie Chan','Malala', 'Manuel Neuer', 'Mark Forster','Michael Jordan', 'Namika', 'Olaf Schulz','Olivia Rodrigo', 'Rihanna', 'Ryan Gosling','Sandra Oh', 'Serena Williams', 'Simu Lui', 'Zendaya']\n",
        "attack_strength = 'weak: 200 steps, ~6 minutes' # @param ['weak: 200 steps, ~6 minutes', 'medium: 400 steps, ~15 minutes', 'strong: 800 steps, ~30 minutes']\n",
        "if attack_strength == 'weak: 200 steps, ~6 minutes': steps = 200\n",
        "elif attack_strength == 'medium: 400 steps, ~15 minutes': steps = 400\n",
        "else: steps = 800\n",
        "\n",
        "# Run the attack\n",
        "attack_image = attack.targeted_attack(model, crop_image, target_name, steps=steps)\n",
        "\n",
        "# Show the original and attacked images\n",
        "print('Attack Image:')\n",
        "show_image(attack_image)\n",
        "print('Original Image:')\n",
        "show_image(crop_image)\n",
        "\n",
        "# Predict\n",
        "attack_input = image_processing.preprocess_image(attack_image)\n",
        "prediction = neural_net.predict(attack_input, model)\n",
        "show_image(image_processing.read_image_from_file(neural_net.index2filepath(prediction)))"
      ],
      "metadata": {
        "id": "koO04NtJxmtE"
      },
      "execution_count": null,
      "outputs": []
    },
    {
      "cell_type": "markdown",
      "source": [
        "## More Detailed Predictions (with Probabilities)"
      ],
      "metadata": {
        "id": "nuC7LtNSX0oI"
      }
    },
    {
      "cell_type": "markdown",
      "source": [
        "If you want, you can see the probability the model assigns for all of the celebrity options before and after the attack."
      ],
      "metadata": {
        "id": "Tpe-EM3q0St9"
      }
    },
    {
      "cell_type": "code",
      "source": [
        "print('Probabilities before the attack:')\n",
        "neural_net.print_all_probs(model_input, model)"
      ],
      "metadata": {
        "id": "kIvi8N_K0b0y"
      },
      "execution_count": null,
      "outputs": []
    },
    {
      "cell_type": "code",
      "source": [
        "print('Probabilities after the most recent attack:')\n",
        "neural_net.print_all_probs(attack_input, model)"
      ],
      "metadata": {
        "id": "vuDzV2A22CsL"
      },
      "execution_count": null,
      "outputs": []
    },
    {
      "cell_type": "markdown",
      "source": [
        "## Untargeted Attack"
      ],
      "metadata": {
        "id": "pVbKi0RPX-Bn"
      }
    },
    {
      "cell_type": "markdown",
      "source": [
        "What if you don't care what celebrity the model assigns, as long as it's different from the original output?\n",
        "\n",
        "Use an untargeted attack!\n",
        "\n",
        "This will be much faster (~1 minute), and the image will look much more similar to the original."
      ],
      "metadata": {
        "id": "eQo8Xb0MYKM6"
      }
    },
    {
      "cell_type": "code",
      "source": [
        "# Run the attack\n",
        "attack_image = attack.untargeted_attack(model, crop_image, steps=200)\n",
        "\n",
        "# Show the original and attacked images\n",
        "print('Attack Image:')\n",
        "show_image(attack_image)\n",
        "print('Original Image:')\n",
        "show_image(crop_image)\n",
        "\n",
        "# Predict\n",
        "attack_input = image_processing.preprocess_image(attack_image)\n",
        "prediction = neural_net.predict(attack_input, model)\n",
        "show_image(image_processing.read_image_from_file(neural_net.index2filepath(prediction)))"
      ],
      "metadata": {
        "id": "MA2ZSx4EYboG"
      },
      "execution_count": null,
      "outputs": []
    }
  ]
}