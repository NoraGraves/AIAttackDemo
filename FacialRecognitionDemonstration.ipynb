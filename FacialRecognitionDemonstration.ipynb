{
  "nbformat": 4,
  "nbformat_minor": 0,
  "metadata": {
    "colab": {
      "provenance": [],
      "authorship_tag": "ABX9TyO4nFLhqLE7iU7MMKM3X0CP",
      "include_colab_link": true
    },
    "kernelspec": {
      "name": "python3",
      "display_name": "Python 3"
    },
    "language_info": {
      "name": "python"
    }
  },
  "cells": [
    {
      "cell_type": "markdown",
      "metadata": {
        "id": "view-in-github",
        "colab_type": "text"
      },
      "source": [
        "<a href=\"https://colab.research.google.com/github/NoraGraves/AIAttackDemo/blob/main/FacialRecognitionDemonstration.ipynb\" target=\"_parent\"><img src=\"https://colab.research.google.com/assets/colab-badge.svg\" alt=\"Open In Colab\"/></a>"
      ]
    },
    {
      "cell_type": "markdown",
      "source": [
        "# Initialization"
      ],
      "metadata": {
        "id": "fqXA0U4pVBUM"
      }
    },
    {
      "cell_type": "markdown",
      "source": [
        "We need to import all of these code libraries in order to format our own photos, and to use the pretrained neural network."
      ],
      "metadata": {
        "id": "bMGcRDI2Vp5-"
      }
    },
    {
      "cell_type": "code",
      "execution_count": null,
      "metadata": {
        "id": "73TS-q6iUxHW"
      },
      "outputs": [],
      "source": [
        "!pip install opencv-python"
      ]
    },
    {
      "cell_type": "code",
      "source": [
        "# Necessary imports (for preprocessing images)\n",
        "!wget http://dlib.net/files/shape_predictor_68_face_landmarks.dat.bz2\n",
        "!bunzip2 \"shape_predictor_68_face_landmarks.dat.bz2\""
      ],
      "metadata": {
        "id": "CLjA51nsVFiG"
      },
      "execution_count": null,
      "outputs": []
    },
    {
      "cell_type": "markdown",
      "source": [
        "Now we will clone the repository in Github containing all of the code and sample images we will need."
      ],
      "metadata": {
        "id": "jMJl-fikUyGJ"
      }
    },
    {
      "cell_type": "code",
      "source": [
        "!git clone 'https://github.com/NoraGraves/AIAttackDemo.git'"
      ],
      "metadata": {
        "id": "4Ua8dzNkbctq"
      },
      "execution_count": null,
      "outputs": []
    },
    {
      "cell_type": "code",
      "source": [
        "import AIAttackDemo.image_processing as image_processing\n",
        "import AIAttackDemo.neural_net as neural_net\n",
        "import AIAttackDemo.attack as attack"
      ],
      "metadata": {
        "id": "I6xTmMb0egyc"
      },
      "execution_count": null,
      "outputs": []
    },
    {
      "cell_type": "markdown",
      "source": [
        "# Upload and crop an image of your face!"
      ],
      "metadata": {
        "id": "Q7qBrJ8kWN20"
      }
    },
    {
      "cell_type": "markdown",
      "source": [
        "The first step is to upload an image of your face to this Colab notebook. If you don't feel comfortable using your own face, any picture with a face in it will work.\n",
        "\n",
        "**Make sure there is only one face in the image!**\n",
        "\n",
        "Once the image is uploaded, copy its path name (usually looks similar to `'/content/IMG_0000.jpg'`) and paste it into `'/file/path/here'`"
      ],
      "metadata": {
        "id": "1S9nh3rZWkgk"
      }
    },
    {
      "cell_type": "code",
      "source": [
        "# Check that the image uploaded correctly by displaying it here!\n",
        "filepath = '/file/path/here'\n",
        "image_processing.show_image_from_file(filepath)"
      ],
      "metadata": {
        "id": "jLmjOXwUjuUr"
      },
      "execution_count": null,
      "outputs": []
    },
    {
      "cell_type": "markdown",
      "source": [
        "Our neural network was trained on pictures of faces that were all in the same format: a square 224x224 image with the face centered inside. Therefore, in order to use your own face as input, you must make sure your picture is in that same format.\n",
        "\n",
        "The following code will detect the face in the image and crop the image around it."
      ],
      "metadata": {
        "id": "OdPb4Y7sj8Uv"
      }
    },
    {
      "cell_type": "code",
      "source": [
        "# Here, we crop the image and then display it\n",
        "crop_image = image_processing.crop_image(filepath)\n",
        "image_processing.show_image(crop_image)"
      ],
      "metadata": {
        "id": "Mbj2sVJakD3g"
      },
      "execution_count": null,
      "outputs": []
    },
    {
      "cell_type": "markdown",
      "source": [
        "# Who do you look like?"
      ],
      "metadata": {
        "id": "QR9LtyfmlUi7"
      }
    },
    {
      "cell_type": "code",
      "source": [
        "# Upload the model\n",
        "model = neural_net.load_model_from_file('/content/AIAttackDemo/celeb_faces.model.keras')\n"
      ],
      "metadata": {
        "id": "BHzHZS_elC3G"
      },
      "execution_count": null,
      "outputs": []
    },
    {
      "cell_type": "markdown",
      "source": [
        "It's finally time to run the program, and find out which celebrity you look like!\n",
        "\n",
        "NOTE: This is a very simple neural network, so the results will not always be perfect. For example, it may say you look like a celebrity of a different gender. Please don't be offended!"
      ],
      "metadata": {
        "id": "J2WPNBRblW1Y"
      }
    },
    {
      "cell_type": "code",
      "source": [
        "# Turn the image into an input the model can understand\n",
        "model_input = image_processing.preprocess_image(crop_image)\n",
        "neural_net.predict(model_input, model)"
      ],
      "metadata": {
        "id": "9xdHTjQ6mCIv"
      },
      "execution_count": null,
      "outputs": []
    },
    {
      "cell_type": "markdown",
      "source": [
        "If you'd like to see a picture of that celebrity, look in the sample_images folder in AIAttackDemo. You can either copy and paste the pathname here, or double click on the image to open it in Colab."
      ],
      "metadata": {
        "id": "a93f-ETonC5C"
      }
    },
    {
      "cell_type": "code",
      "source": [
        "# Optional: Display the celebrity here\n",
        "image_processing.show_image_from_file('/file/path/here')"
      ],
      "metadata": {
        "id": "aSGNt24om4Zv"
      },
      "execution_count": null,
      "outputs": []
    },
    {
      "cell_type": "markdown",
      "source": [
        "# Time to attack the model!"
      ],
      "metadata": {
        "id": "l5PsN0UlnZI8"
      }
    },
    {
      "cell_type": "markdown",
      "source": [
        "We will now add noise to the image, so that the model identifies the same person as a different celebrity."
      ],
      "metadata": {
        "id": "C7cyw17wnuJ6"
      }
    },
    {
      "cell_type": "code",
      "source": [
        "# Prints the celebrity options\n",
        "print(('\\n').join(neural_net.INDEX_2_NAME))"
      ],
      "metadata": {
        "id": "uGc6Re0ColU-"
      },
      "execution_count": null,
      "outputs": []
    },
    {
      "cell_type": "markdown",
      "source": [
        "Pick a celebrity from above, then copy and paste the name where it says `'celeb name here'`"
      ],
      "metadata": {
        "id": "ikzN-owOqIEj"
      }
    },
    {
      "cell_type": "code",
      "source": [
        "target_name = 'celeb name here'"
      ],
      "metadata": {
        "id": "xN1vSa_Qnto0"
      },
      "execution_count": null,
      "outputs": []
    },
    {
      "cell_type": "markdown",
      "source": [
        "Run the attack!\n",
        "\n",
        "NOTE: This typically takes around 15 minutes"
      ],
      "metadata": {
        "id": "c8JzK7nNqUen"
      }
    },
    {
      "cell_type": "code",
      "source": [
        "attack_image = attack.targeted_attack(model, crop_image, target_name)"
      ],
      "metadata": {
        "id": "sfLo5RUNnjC7"
      },
      "execution_count": null,
      "outputs": []
    },
    {
      "cell_type": "markdown",
      "source": [
        "Let's look at the image, and then see what the model predicts!"
      ],
      "metadata": {
        "id": "K2w6iEp-4CNT"
      }
    },
    {
      "cell_type": "code",
      "source": [
        "image_processing.show_image(attack_image)"
      ],
      "metadata": {
        "id": "ieauAdWIzEXA"
      },
      "execution_count": null,
      "outputs": []
    },
    {
      "cell_type": "code",
      "source": [
        "attack_input = image_processing.preprocess_image(attack_image)\n",
        "neural_net.predict(attack_input, model)"
      ],
      "metadata": {
        "id": "SUqvziqSx1tJ"
      },
      "execution_count": null,
      "outputs": []
    },
    {
      "cell_type": "markdown",
      "source": [
        "# Further Exploration"
      ],
      "metadata": {
        "id": "Yzz9jrZJzO4I"
      }
    },
    {
      "cell_type": "markdown",
      "source": [
        "Within these functions, there are many parameters that can be adapted. Here are a few ideas:\n",
        "* Use different input images and see how the model behaves\n",
        "* Upload a different trained keras model and run the same attack.\n",
        "* Adjust how much the attack changes the picture. Right now, the function runs 400 steps automatically, but `attack.targeted_attack(model, crop_image, target_name, steps=N)` will run N steps instead. This will affect how long the attack takes, how \"strange\" the image looks, and how likely it is that the model will predict the target celebrity\n",
        "* Use the function `neural_net.print_all_probs(attack_input, model)` to see how similar the model thinks an image is to *all* the celebrity options. If the target has a lower probability, the attack will typically require more steps to be successful!"
      ],
      "metadata": {
        "id": "erYft-tOzTJu"
      }
    }
  ]
}