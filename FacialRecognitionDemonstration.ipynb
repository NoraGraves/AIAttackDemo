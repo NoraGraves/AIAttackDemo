{
  "nbformat": 4,
  "nbformat_minor": 0,
  "metadata": {
    "colab": {
      "provenance": [],
      "private_outputs": true,
      "authorship_tag": "ABX9TyO35UcWnUjHieCyYYcVpdNM",
      "include_colab_link": true
    },
    "kernelspec": {
      "name": "python3",
      "display_name": "Python 3"
    },
    "language_info": {
      "name": "python"
    }
  },
  "cells": [
    {
      "cell_type": "markdown",
      "metadata": {
        "id": "view-in-github",
        "colab_type": "text"
      },
      "source": [
        "<a href=\"https://colab.research.google.com/github/NoraGraves/AIAttackDemo/blob/main/FacialRecognitionDemonstration.ipynb\" target=\"_parent\"><img src=\"https://colab.research.google.com/assets/colab-badge.svg\" alt=\"Open In Colab\"/></a>"
      ]
    },
    {
      "cell_type": "markdown",
      "source": [
        "# Initialization"
      ],
      "metadata": {
        "id": "fqXA0U4pVBUM"
      }
    },
    {
      "cell_type": "markdown",
      "source": [
        "We need to import all of these code libraries in order to format our own photos, and to use the pretrained neural network."
      ],
      "metadata": {
        "id": "bMGcRDI2Vp5-"
      }
    },
    {
      "cell_type": "code",
      "execution_count": null,
      "metadata": {
        "id": "73TS-q6iUxHW"
      },
      "outputs": [],
      "source": [
        "%%capture\n",
        "%pip install opencv-python\n",
        "!wget http://dlib.net/files/shape_predictor_68_face_landmarks.dat.bz2\n",
        "!bunzip2 \"shape_predictor_68_face_landmarks.dat.bz2\""
      ]
    },
    {
      "cell_type": "markdown",
      "source": [
        "Now we will clone the repository in Github containing all of the code and sample images we will need."
      ],
      "metadata": {
        "id": "jMJl-fikUyGJ"
      }
    },
    {
      "cell_type": "code",
      "source": [
        "%%capture\n",
        "!git clone 'https://github.com/NoraGraves/AIAttackDemo.git'"
      ],
      "metadata": {
        "id": "4Ua8dzNkbctq"
      },
      "execution_count": null,
      "outputs": []
    },
    {
      "cell_type": "code",
      "source": [
        "import AIAttackDemo.image_processing as image_processing\n",
        "import AIAttackDemo.neural_net as neural_net\n",
        "import AIAttackDemo.attack as attack\n",
        "\n",
        "from google.colab.patches import cv2_imshow as show_image"
      ],
      "metadata": {
        "id": "I6xTmMb0egyc"
      },
      "execution_count": null,
      "outputs": []
    },
    {
      "cell_type": "markdown",
      "source": [
        "# Upload and crop an image of your face!"
      ],
      "metadata": {
        "id": "Q7qBrJ8kWN20"
      }
    },
    {
      "cell_type": "markdown",
      "source": [
        "The first step is to upload an image of your face to this Colab notebook. If you don't feel comfortable using your own face, any picture with a face in it will work.\n",
        "\n",
        "**Make sure there is only one face in the image!**"
      ],
      "metadata": {
        "id": "1S9nh3rZWkgk"
      }
    },
    {
      "cell_type": "code",
      "source": [
        "from google.colab import files\n",
        "uploaded=files.upload()\n",
        "\n",
        "filepath = ''\n",
        "for key in uploaded.keys():\n",
        "    filepath = f'/content/{key}'"
      ],
      "metadata": {
        "id": "S09mf5hmJWVd"
      },
      "execution_count": null,
      "outputs": []
    },
    {
      "cell_type": "code",
      "source": [
        "# Check that the image uploaded correctly by displaying it here!\n",
        "show_image(image_processing.read_image_from_file(filepath))"
      ],
      "metadata": {
        "id": "jLmjOXwUjuUr"
      },
      "execution_count": null,
      "outputs": []
    },
    {
      "cell_type": "markdown",
      "source": [
        "Our neural network was trained on pictures of faces that were all in the same format: a square 224x224 image with the face centered inside. Therefore, in order to use your own face as input, you must make sure your picture is in that same format.\n",
        "\n",
        "The following code will detect the face in the image and crop the image around it."
      ],
      "metadata": {
        "id": "OdPb4Y7sj8Uv"
      }
    },
    {
      "cell_type": "code",
      "source": [
        "# Here, we crop the image and then display it\n",
        "crop_image = image_processing.crop_image_from_file(filepath)\n",
        "show_image(crop_image)"
      ],
      "metadata": {
        "id": "Mbj2sVJakD3g"
      },
      "execution_count": null,
      "outputs": []
    },
    {
      "cell_type": "markdown",
      "source": [
        "# Who do you look like?"
      ],
      "metadata": {
        "id": "QR9LtyfmlUi7"
      }
    },
    {
      "cell_type": "code",
      "source": [
        "# Upload the model\n",
        "model = neural_net.load_model_from_file('/content/AIAttackDemo/celeb_faces.model.keras')\n"
      ],
      "metadata": {
        "id": "BHzHZS_elC3G"
      },
      "execution_count": null,
      "outputs": []
    },
    {
      "cell_type": "markdown",
      "source": [
        "It's finally time to run the program, and find out which celebrity you look like!\n",
        "\n",
        "NOTE: This is a very simple neural network, so the results will not always be perfect. For example, it may say you look like a celebrity of a different gender. Please don't be offended!"
      ],
      "metadata": {
        "id": "J2WPNBRblW1Y"
      }
    },
    {
      "cell_type": "code",
      "source": [
        "# Turn the image into an input the model can understand\n",
        "model_input = image_processing.preprocess_image(crop_image)\n",
        "prediction = neural_net.predict(model_input, model)\n",
        "show_image(image_processing.read_image_from_file(neural_net.index2filepath(prediction)))"
      ],
      "metadata": {
        "id": "9xdHTjQ6mCIv"
      },
      "execution_count": null,
      "outputs": []
    },
    {
      "cell_type": "markdown",
      "source": [
        "# Time to attack the model!"
      ],
      "metadata": {
        "id": "l5PsN0UlnZI8"
      }
    },
    {
      "cell_type": "markdown",
      "source": [
        "We will now add noise to the image, so that the model identifies the same person as a different celebrity."
      ],
      "metadata": {
        "id": "C7cyw17wnuJ6"
      }
    },
    {
      "cell_type": "markdown",
      "source": [
        "Pick a celebrity and run the code block. This will display an image of the selected celebrity."
      ],
      "metadata": {
        "id": "ikzN-owOqIEj"
      }
    },
    {
      "cell_type": "code",
      "source": [
        "target_name = \"Alica Schmidt\" # @param ['Alica Schmidt', 'Angela Merkel', 'Barack Obama','Bruno Mars', 'Dwayne Johnson', 'Ed Sheeran', 'Emma Stone', 'Greta Thunberg', 'Jackie Chan','Malala', 'Manuel Neuer', 'Mark Forster','Michael Jordan', 'Namika', 'Olaf Schulz','Olivia Rodrigo', 'Rihanna', 'Ryan Gosling','Sandra Oh', 'Serena Williams', 'Simu Lui', 'Zendaya'] {run: \"auto\"}\n",
        "\n",
        "sel_index = neural_net.name2index(target_name)\n",
        "show_image(image_processing.read_image_from_file(neural_net.index2filepath(sel_index)))\n",
        "\n"
      ],
      "metadata": {
        "id": "bQdGt4GDJNBD",
        "cellView": "form"
      },
      "execution_count": null,
      "outputs": []
    },
    {
      "cell_type": "markdown",
      "source": [
        "Run the attack!\n",
        "\n",
        "NOTE: This typically takes around 15 minutes"
      ],
      "metadata": {
        "id": "c8JzK7nNqUen"
      }
    },
    {
      "cell_type": "code",
      "source": [
        "attack_image = attack.targeted_attack(model, crop_image, target_name)"
      ],
      "metadata": {
        "id": "sfLo5RUNnjC7"
      },
      "execution_count": null,
      "outputs": []
    },
    {
      "cell_type": "markdown",
      "source": [
        "Let's look at the image, and then see what the model predicts!"
      ],
      "metadata": {
        "id": "K2w6iEp-4CNT"
      }
    },
    {
      "cell_type": "code",
      "source": [
        "show_image(attack_image)"
      ],
      "metadata": {
        "id": "ieauAdWIzEXA"
      },
      "execution_count": null,
      "outputs": []
    },
    {
      "cell_type": "code",
      "source": [
        "attack_input = image_processing.preprocess_image(attack_image)\n",
        "neural_net.predict(attack_input, model)"
      ],
      "metadata": {
        "id": "SUqvziqSx1tJ"
      },
      "execution_count": null,
      "outputs": []
    },
    {
      "cell_type": "markdown",
      "source": [
        "# Further Exploration"
      ],
      "metadata": {
        "id": "Yzz9jrZJzO4I"
      }
    },
    {
      "cell_type": "markdown",
      "source": [
        "Within these functions, there are many parameters that can be adapted. Here are a few ideas:\n",
        "* Use different input images and see how the model behaves\n",
        "* Upload a different trained keras model and run the same attack.\n",
        "* Adjust how much the attack changes the picture. Right now, the function runs 400 steps automatically, but `attack.targeted_attack(model, crop_image, target_name, steps=N)` will run N steps instead. This will affect how long the attack takes, how \"strange\" the image looks, and how likely it is that the model will predict the target celebrity\n",
        "* Use the function `neural_net.print_all_probs(attack_input, model)` to see how similar the model thinks an image is to *all* the celebrity options. If the target has a lower probability, the attack will typically require more steps to be successful!"
      ],
      "metadata": {
        "id": "erYft-tOzTJu"
      }
    }
  ]
}